{
 "cells": [
  {
   "cell_type": "markdown",
   "id": "3ea01bed-efad-4331-9646-1ac086a86fc4",
   "metadata": {},
   "source": [
    "# Transportation: Accident Hot Spots\n",
    "## Group Assignment #2\n",
    "#### Jessica T. Lopez\n",
    "\n",
    "For this project two data sets were selected. The first one [Top 60 Priority Intersections](https://jupyter.idre.ucla.edu/hub/user-redirect/lab/tree/data/Top_60_Priority_Intersections.zip) includes all the intersections that have been prioritized for the development of safety projects in Los Angeles. The second dataset [Bike and Pedestrians KSI's](https://jupyter.idre.ucla.edu/hub/user-redirect/lab/tree/data/Density_of_Bike_Ped_KSi_s_by_CPA.geojson) contains information on bicyclits and pedestrians who have been killed or severely injured in Los Angeles. Both datasets were selected to highlight the streets and intersections that pose a threat to pedestrians and bicyclists in Los Angeles."
   ]
  },
  {
   "cell_type": "code",
   "execution_count": 2,
   "id": "2a626bf9-757d-4b0a-a6c5-6a7260f76d14",
   "metadata": {},
   "outputs": [],
   "source": [
    "# importing pandas and geopandas\n",
    "import pandas as pd\n",
    "import geopandas as gpd"
   ]
  },
  {
   "cell_type": "code",
   "execution_count": 3,
   "id": "8510006b-183b-4e58-8b6f-58b0fc48e0fa",
   "metadata": {},
   "outputs": [],
   "source": [
    "# now importing data for the first data set 'Top 60 Priority Intersections'\n",
    "df = pd.read_csv('Top_60_Priority_Intersections.csv')"
   ]
  },
  {
   "cell_type": "code",
   "execution_count": 4,
   "id": "84baa3e9-ef40-4433-a05e-dffc1ad77224",
   "metadata": {},
   "outputs": [
    {
     "data": {
      "text/plain": [
       "pandas.core.frame.DataFrame"
      ]
     },
     "execution_count": 4,
     "metadata": {},
     "output_type": "execute_result"
    }
   ],
   "source": [
    "#checking on data type\n",
    "type(df)"
   ]
  },
  {
   "cell_type": "code",
   "execution_count": 5,
   "id": "fa1e7be7-490f-4713-9243-c4eb753c5696",
   "metadata": {},
   "outputs": [
    {
     "data": {
      "text/html": [
       "<div>\n",
       "<style scoped>\n",
       "    .dataframe tbody tr th:only-of-type {\n",
       "        vertical-align: middle;\n",
       "    }\n",
       "\n",
       "    .dataframe tbody tr th {\n",
       "        vertical-align: top;\n",
       "    }\n",
       "\n",
       "    .dataframe thead th {\n",
       "        text-align: right;\n",
       "    }\n",
       "</style>\n",
       "<table border=\"1\" class=\"dataframe\">\n",
       "  <thead>\n",
       "    <tr style=\"text-align: right;\">\n",
       "      <th></th>\n",
       "      <th>X</th>\n",
       "      <th>Y</th>\n",
       "      <th>ObjectID</th>\n",
       "      <th>Intersection</th>\n",
       "    </tr>\n",
       "  </thead>\n",
       "  <tbody>\n",
       "    <tr>\n",
       "      <th>0</th>\n",
       "      <td>-118.293400</td>\n",
       "      <td>33.763911</td>\n",
       "      <td>1</td>\n",
       "      <td>Gaffey St &amp; Westmont Dr</td>\n",
       "    </tr>\n",
       "    <tr>\n",
       "      <th>1</th>\n",
       "      <td>-118.553566</td>\n",
       "      <td>34.220468</td>\n",
       "      <td>2</td>\n",
       "      <td>Tampa Ave &amp; Roscoe Blvd</td>\n",
       "    </tr>\n",
       "    <tr>\n",
       "      <th>2</th>\n",
       "      <td>-118.571047</td>\n",
       "      <td>34.220205</td>\n",
       "      <td>3</td>\n",
       "      <td>Roscoe Blvd &amp; Winnetka Ave</td>\n",
       "    </tr>\n",
       "    <tr>\n",
       "      <th>3</th>\n",
       "      <td>-118.288421</td>\n",
       "      <td>34.235491</td>\n",
       "      <td>4</td>\n",
       "      <td>La Tuna Canyon Rd &amp; Rt 210 E/b Off</td>\n",
       "    </tr>\n",
       "    <tr>\n",
       "      <th>4</th>\n",
       "      <td>-118.535739</td>\n",
       "      <td>34.035819</td>\n",
       "      <td>5</td>\n",
       "      <td>Pacific Coast Hwy &amp; Temescal Canyon Rd</td>\n",
       "    </tr>\n",
       "    <tr>\n",
       "      <th>5</th>\n",
       "      <td>-118.475667</td>\n",
       "      <td>34.171738</td>\n",
       "      <td>6</td>\n",
       "      <td>Burbank Blvd &amp; Woodley Ave</td>\n",
       "    </tr>\n",
       "    <tr>\n",
       "      <th>6</th>\n",
       "      <td>-118.256491</td>\n",
       "      <td>34.003943</td>\n",
       "      <td>7</td>\n",
       "      <td>Vernon Ave &amp; Central Ave</td>\n",
       "    </tr>\n",
       "    <tr>\n",
       "      <th>7</th>\n",
       "      <td>-118.434886</td>\n",
       "      <td>33.930826</td>\n",
       "      <td>8</td>\n",
       "      <td>Vista Del Mar &amp; Imperial Hwy</td>\n",
       "    </tr>\n",
       "    <tr>\n",
       "      <th>8</th>\n",
       "      <td>-118.350916</td>\n",
       "      <td>34.032524</td>\n",
       "      <td>9</td>\n",
       "      <td>La Brea Ave &amp; Adams Blvd</td>\n",
       "    </tr>\n",
       "    <tr>\n",
       "      <th>9</th>\n",
       "      <td>-118.291891</td>\n",
       "      <td>33.960030</td>\n",
       "      <td>10</td>\n",
       "      <td>Manchester Ave &amp; Vermont Ave</td>\n",
       "    </tr>\n",
       "    <tr>\n",
       "      <th>10</th>\n",
       "      <td>-118.309272</td>\n",
       "      <td>34.101738</td>\n",
       "      <td>11</td>\n",
       "      <td>Hollywood Blvd &amp; Western Ave</td>\n",
       "    </tr>\n",
       "  </tbody>\n",
       "</table>\n",
       "</div>"
      ],
      "text/plain": [
       "             X          Y  ObjectID                            Intersection\n",
       "0  -118.293400  33.763911         1                 Gaffey St & Westmont Dr\n",
       "1  -118.553566  34.220468         2                 Tampa Ave & Roscoe Blvd\n",
       "2  -118.571047  34.220205         3              Roscoe Blvd & Winnetka Ave\n",
       "3  -118.288421  34.235491         4      La Tuna Canyon Rd & Rt 210 E/b Off\n",
       "4  -118.535739  34.035819         5  Pacific Coast Hwy & Temescal Canyon Rd\n",
       "5  -118.475667  34.171738         6              Burbank Blvd & Woodley Ave\n",
       "6  -118.256491  34.003943         7                Vernon Ave & Central Ave\n",
       "7  -118.434886  33.930826         8            Vista Del Mar & Imperial Hwy\n",
       "8  -118.350916  34.032524         9                La Brea Ave & Adams Blvd\n",
       "9  -118.291891  33.960030        10            Manchester Ave & Vermont Ave\n",
       "10 -118.309272  34.101738        11            Hollywood Blvd & Western Ave"
      ]
     },
     "execution_count": 5,
     "metadata": {},
     "output_type": "execute_result"
    }
   ],
   "source": [
    "# a peak into how the data looks\n",
    "df.head (11)"
   ]
  },
  {
   "cell_type": "code",
   "execution_count": 6,
   "id": "926485fe-3ade-49ee-9b82-1b1824d7a1cd",
   "metadata": {},
   "outputs": [
    {
     "name": "stdout",
     "output_type": "stream",
     "text": [
      "<class 'pandas.core.frame.DataFrame'>\n",
      "RangeIndex: 60 entries, 0 to 59\n",
      "Data columns (total 4 columns):\n",
      " #   Column        Non-Null Count  Dtype  \n",
      "---  ------        --------------  -----  \n",
      " 0   X             60 non-null     float64\n",
      " 1   Y             60 non-null     float64\n",
      " 2   ObjectID      60 non-null     int64  \n",
      " 3   Intersection  60 non-null     object \n",
      "dtypes: float64(2), int64(1), object(1)\n",
      "memory usage: 2.0+ KB\n"
     ]
    }
   ],
   "source": [
    "df.info(verbose=True, show_counts=True)"
   ]
  },
  {
   "cell_type": "code",
   "execution_count": 7,
   "id": "09da61ed-9d48-4294-881f-ae6e7908a426",
   "metadata": {},
   "outputs": [
    {
     "data": {
      "text/plain": [
       "X               float64\n",
       "Y               float64\n",
       "ObjectID          int64\n",
       "Intersection     object\n",
       "dtype: object"
      ]
     },
     "execution_count": 7,
     "metadata": {},
     "output_type": "execute_result"
    }
   ],
   "source": [
    "df.dtypes"
   ]
  },
  {
   "cell_type": "code",
   "execution_count": 8,
   "id": "2ae2df98-d323-44e9-aa7f-dae48a433e50",
   "metadata": {},
   "outputs": [
    {
     "data": {
      "text/plain": [
       "(60, 4)"
      ]
     },
     "execution_count": 8,
     "metadata": {},
     "output_type": "execute_result"
    }
   ],
   "source": [
    "df.shape \n",
    "# looking the total rows and columns"
   ]
  },
  {
   "cell_type": "code",
   "execution_count": 9,
   "id": "22c2af02-2c0d-416a-becd-2ff50ae4504b",
   "metadata": {},
   "outputs": [
    {
     "data": {
      "text/plain": [
       "['X', 'Y', 'ObjectID', 'Intersection']"
      ]
     },
     "execution_count": 9,
     "metadata": {},
     "output_type": "execute_result"
    }
   ],
   "source": [
    "#now I want to take a look closer look at all the columns to see if I need to trim anything\n",
    "df.columns.to_list()"
   ]
  },
  {
   "cell_type": "code",
   "execution_count": 10,
   "id": "6252d6cc-5adb-44f7-b920-0e95013a7355",
   "metadata": {},
   "outputs": [],
   "source": [
    "#Trimming will not be necessary. I will now begin plotting"
   ]
  },
  {
   "cell_type": "code",
   "execution_count": 11,
   "id": "122ff420-ad90-4355-940e-3fbe338a1aef",
   "metadata": {},
   "outputs": [
    {
     "name": "stdout",
     "output_type": "stream",
     "text": [
      "<class 'pandas.core.frame.DataFrame'>\n",
      "RangeIndex: 60 entries, 0 to 59\n",
      "Data columns (total 4 columns):\n",
      " #   Column        Non-Null Count  Dtype  \n",
      "---  ------        --------------  -----  \n",
      " 0   X             60 non-null     float64\n",
      " 1   Y             60 non-null     float64\n",
      " 2   ObjectID      60 non-null     int64  \n",
      " 3   Intersection  60 non-null     object \n",
      "dtypes: float64(2), int64(1), object(1)\n",
      "memory usage: 2.0+ KB\n"
     ]
    }
   ],
   "source": [
    "# checking data for latitude and longitude columns\n",
    "df.info()"
   ]
  },
  {
   "cell_type": "code",
   "execution_count": 12,
   "id": "0bd3cac1-8074-4de2-a147-ff810672e766",
   "metadata": {},
   "outputs": [],
   "source": [
    "columns_to_keep = ['X','Y','Intersection']\n",
    "#add it to new data frame\n",
    "df2 = df[columns_to_keep]"
   ]
  },
  {
   "cell_type": "code",
   "execution_count": 13,
   "id": "53ee7707-ec1f-400f-ae3c-66867e13ba47",
   "metadata": {},
   "outputs": [
    {
     "data": {
      "text/plain": [
       "['X', 'Y', 'Intersection']"
      ]
     },
     "execution_count": 13,
     "metadata": {},
     "output_type": "execute_result"
    }
   ],
   "source": [
    "# renaming the columns\n",
    "columns = list (df2)\n",
    "columns"
   ]
  },
  {
   "cell_type": "code",
   "execution_count": 14,
   "id": "41d369da-0a2e-47e6-8e58-9e5859491c5e",
   "metadata": {},
   "outputs": [],
   "source": [
    "df2.columns=['longitude', 'latitude', 'Intersection']"
   ]
  },
  {
   "cell_type": "code",
   "execution_count": 15,
   "id": "7491574e-5cef-4874-b915-b864b2b3d534",
   "metadata": {},
   "outputs": [
    {
     "data": {
      "text/html": [
       "<div>\n",
       "<style scoped>\n",
       "    .dataframe tbody tr th:only-of-type {\n",
       "        vertical-align: middle;\n",
       "    }\n",
       "\n",
       "    .dataframe tbody tr th {\n",
       "        vertical-align: top;\n",
       "    }\n",
       "\n",
       "    .dataframe thead th {\n",
       "        text-align: right;\n",
       "    }\n",
       "</style>\n",
       "<table border=\"1\" class=\"dataframe\">\n",
       "  <thead>\n",
       "    <tr style=\"text-align: right;\">\n",
       "      <th></th>\n",
       "      <th>longitude</th>\n",
       "      <th>latitude</th>\n",
       "      <th>Intersection</th>\n",
       "    </tr>\n",
       "  </thead>\n",
       "  <tbody>\n",
       "    <tr>\n",
       "      <th>13</th>\n",
       "      <td>-118.217734</td>\n",
       "      <td>34.023371</td>\n",
       "      <td>Olympic Blvd &amp; Orme Ave</td>\n",
       "    </tr>\n",
       "    <tr>\n",
       "      <th>17</th>\n",
       "      <td>-118.544766</td>\n",
       "      <td>34.186591</td>\n",
       "      <td>Victory Blvd &amp; Wilbur Ave</td>\n",
       "    </tr>\n",
       "    <tr>\n",
       "      <th>54</th>\n",
       "      <td>-118.347507</td>\n",
       "      <td>34.040382</td>\n",
       "      <td>La Brea Ave &amp; Washington Blvd</td>\n",
       "    </tr>\n",
       "    <tr>\n",
       "      <th>47</th>\n",
       "      <td>-118.536091</td>\n",
       "      <td>34.220732</td>\n",
       "      <td>Roscoe Blvd &amp; Reseda Blvd</td>\n",
       "    </tr>\n",
       "  </tbody>\n",
       "</table>\n",
       "</div>"
      ],
      "text/plain": [
       "     longitude   latitude                   Intersection\n",
       "13 -118.217734  34.023371        Olympic Blvd & Orme Ave\n",
       "17 -118.544766  34.186591      Victory Blvd & Wilbur Ave\n",
       "54 -118.347507  34.040382  La Brea Ave & Washington Blvd\n",
       "47 -118.536091  34.220732      Roscoe Blvd & Reseda Blvd"
      ]
     },
     "execution_count": 15,
     "metadata": {},
     "output_type": "execute_result"
    }
   ],
   "source": [
    "# now checking dataset for new names\n",
    "df2.sample(4)"
   ]
  },
  {
   "cell_type": "markdown",
   "id": "41351320-c0b4-4771-a954-1ccba529937b",
   "metadata": {},
   "source": [
    "### From Dataframe(df) to Geodataframe(gdf) "
   ]
  },
  {
   "cell_type": "markdown",
   "id": "1eb82c6b-e1d5-4c5b-b057-3dce434d914a",
   "metadata": {},
   "source": [
    "Since this data set contains latitude and longitude coordinates I will have to convert the dataframe(df) to geodataframe(gdf).\n",
    "One thing to note, as per Week 4 lab, if the data has latitude and longitude coordinates, it is a geographic coordinate system (GCS) with a crs code epsg:4326."
   ]
  },
  {
   "cell_type": "code",
   "execution_count": 16,
   "id": "3a985c86-7ce4-42b5-913e-ac72931df162",
   "metadata": {},
   "outputs": [
    {
     "ename": "AttributeError",
     "evalue": "'DataFrame' object has no attribute 'longitude'",
     "output_type": "error",
     "traceback": [
      "\u001b[0;31m---------------------------------------------------------------------------\u001b[0m",
      "\u001b[0;31mAttributeError\u001b[0m                            Traceback (most recent call last)",
      "Cell \u001b[0;32mIn[16], line 5\u001b[0m\n\u001b[1;32m      1\u001b[0m \u001b[38;5;66;03m# convert df to gdf\u001b[39;00m\n\u001b[1;32m      2\u001b[0m \u001b[38;5;66;03m# since data is in lat/lon's assign the crs to WGS84 (epsg:4326)\u001b[39;00m\n\u001b[1;32m      3\u001b[0m gdf \u001b[38;5;241m=\u001b[39m gpd\u001b[38;5;241m.\u001b[39mGeoDataFrame(df, \n\u001b[1;32m      4\u001b[0m                        crs\u001b[38;5;241m=\u001b[39m\u001b[38;5;124m'\u001b[39m\u001b[38;5;124mepsg:4326\u001b[39m\u001b[38;5;124m'\u001b[39m,\n\u001b[0;32m----> 5\u001b[0m                        geometry\u001b[38;5;241m=\u001b[39mgpd\u001b[38;5;241m.\u001b[39mpoints_from_xy(\u001b[43mdf\u001b[49m\u001b[38;5;241;43m.\u001b[39;49m\u001b[43mlongitude\u001b[49m, df\u001b[38;5;241m.\u001b[39mlatitude))\n",
      "File \u001b[0;32m/opt/conda/lib/python3.10/site-packages/pandas/core/generic.py:5902\u001b[0m, in \u001b[0;36mNDFrame.__getattr__\u001b[0;34m(self, name)\u001b[0m\n\u001b[1;32m   5895\u001b[0m \u001b[38;5;28;01mif\u001b[39;00m (\n\u001b[1;32m   5896\u001b[0m     name \u001b[38;5;129;01mnot\u001b[39;00m \u001b[38;5;129;01min\u001b[39;00m \u001b[38;5;28mself\u001b[39m\u001b[38;5;241m.\u001b[39m_internal_names_set\n\u001b[1;32m   5897\u001b[0m     \u001b[38;5;129;01mand\u001b[39;00m name \u001b[38;5;129;01mnot\u001b[39;00m \u001b[38;5;129;01min\u001b[39;00m \u001b[38;5;28mself\u001b[39m\u001b[38;5;241m.\u001b[39m_metadata\n\u001b[1;32m   5898\u001b[0m     \u001b[38;5;129;01mand\u001b[39;00m name \u001b[38;5;129;01mnot\u001b[39;00m \u001b[38;5;129;01min\u001b[39;00m \u001b[38;5;28mself\u001b[39m\u001b[38;5;241m.\u001b[39m_accessors\n\u001b[1;32m   5899\u001b[0m     \u001b[38;5;129;01mand\u001b[39;00m \u001b[38;5;28mself\u001b[39m\u001b[38;5;241m.\u001b[39m_info_axis\u001b[38;5;241m.\u001b[39m_can_hold_identifiers_and_holds_name(name)\n\u001b[1;32m   5900\u001b[0m ):\n\u001b[1;32m   5901\u001b[0m     \u001b[38;5;28;01mreturn\u001b[39;00m \u001b[38;5;28mself\u001b[39m[name]\n\u001b[0;32m-> 5902\u001b[0m \u001b[38;5;28;01mreturn\u001b[39;00m \u001b[38;5;28;43mobject\u001b[39;49m\u001b[38;5;241;43m.\u001b[39;49m\u001b[38;5;21;43m__getattribute__\u001b[39;49m\u001b[43m(\u001b[49m\u001b[38;5;28;43mself\u001b[39;49m\u001b[43m,\u001b[49m\u001b[43m \u001b[49m\u001b[43mname\u001b[49m\u001b[43m)\u001b[49m\n",
      "\u001b[0;31mAttributeError\u001b[0m: 'DataFrame' object has no attribute 'longitude'"
     ]
    }
   ],
   "source": [
    "# convert df to gdf\n",
    "# since data is in lat/lon's assign the crs to WGS84 (epsg:4326)\n",
    "gdf = gpd.GeoDataFrame(df, \n",
    "                       crs='epsg:4326',\n",
    "                       geometry=gpd.points_from_xy(df.longitude, df.latitude))"
   ]
  },
  {
   "cell_type": "code",
   "execution_count": null,
   "id": "51e6d838-dfcc-4ba9-8deb-18419994ec76",
   "metadata": {},
   "outputs": [],
   "source": []
  }
 ],
 "metadata": {
  "kernelspec": {
   "display_name": "Python 3 (ipykernel)",
   "language": "python",
   "name": "python3"
  },
  "language_info": {
   "codemirror_mode": {
    "name": "ipython",
    "version": 3
   },
   "file_extension": ".py",
   "mimetype": "text/x-python",
   "name": "python",
   "nbconvert_exporter": "python",
   "pygments_lexer": "ipython3",
   "version": "3.10.8"
  }
 },
 "nbformat": 4,
 "nbformat_minor": 5
}
