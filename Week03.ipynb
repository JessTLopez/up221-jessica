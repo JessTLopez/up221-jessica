{
 "cells": [
  {
   "cell_type": "markdown",
   "id": "b3ba6e1a-69d6-4225-b992-7f2b442e85ce",
   "metadata": {
    "tags": []
   },
   "source": [
    "## Week 3 Data Exploration\n",
    "\n",
    "#### **Name:** Jessica T. Lopez\n",
    "#### **Summary:** I explore mid-century, late century and future heat projections.\n"
   ]
  },
  {
   "cell_type": "code",
   "execution_count": 1,
   "id": "122ec524-fba8-44ae-9032-591f68c206df",
   "metadata": {},
   "outputs": [],
   "source": [
    "# Import the data submitted in Week 1 to conduct data exploration\n",
    "import pandas as pd\n",
    "import geopandas as gpd"
   ]
  },
  {
   "cell_type": "code",
   "execution_count": 89,
   "id": "7b176d17-d536-4e9d-8552-7a0a45a2eb08",
   "metadata": {},
   "outputs": [],
   "source": [
    "# Add file here, I hope it works, fingers crossed.\n",
    "import pandas as pd \n",
    "temp= pd.read_csv ('Extreme_Heat.csv')"
   ]
  },
  {
   "cell_type": "code",
   "execution_count": 90,
   "id": "fd11f837-64e1-4386-ba31-e6e499303444",
   "metadata": {},
   "outputs": [
    {
     "data": {
      "text/plain": [
       "pandas.core.frame.DataFrame"
      ]
     },
     "execution_count": 90,
     "metadata": {},
     "output_type": "execute_result"
    }
   ],
   "source": [
    "type(temp)"
   ]
  },
  {
   "cell_type": "code",
   "execution_count": 91,
   "id": "ac0f4c68-e029-4f12-8726-5747eb1d8491",
   "metadata": {},
   "outputs": [
    {
     "data": {
      "text/html": [
       "<div>\n",
       "<style scoped>\n",
       "    .dataframe tbody tr th:only-of-type {\n",
       "        vertical-align: middle;\n",
       "    }\n",
       "\n",
       "    .dataframe tbody tr th {\n",
       "        vertical-align: top;\n",
       "    }\n",
       "\n",
       "    .dataframe thead th {\n",
       "        text-align: right;\n",
       "    }\n",
       "</style>\n",
       "<table border=\"1\" class=\"dataframe\">\n",
       "  <thead>\n",
       "    <tr style=\"text-align: right;\">\n",
       "      <th></th>\n",
       "      <th>OBJECTID</th>\n",
       "      <th>Geo_UID</th>\n",
       "      <th>Grid_Num</th>\n",
       "      <th>longitude</th>\n",
       "      <th>latitude</th>\n",
       "      <th>Baseline</th>\n",
       "      <th>F_2050</th>\n",
       "      <th>F_2080</th>\n",
       "      <th>Temp_Exposure</th>\n",
       "      <th>Temp_Exposure_2080</th>\n",
       "      <th>Shape_Length</th>\n",
       "      <th>Shape_Area</th>\n",
       "      <th>Temp_Mid</th>\n",
       "      <th>Temp_Late</th>\n",
       "      <th>Shape__Area</th>\n",
       "      <th>Shape__Length</th>\n",
       "    </tr>\n",
       "  </thead>\n",
       "  <tbody>\n",
       "    <tr>\n",
       "      <th>0</th>\n",
       "      <td>1</td>\n",
       "      <td>33.6875-118.125</td>\n",
       "      <td>437.0</td>\n",
       "      <td>-118.1250</td>\n",
       "      <td>33.6875</td>\n",
       "      <td>88.0547</td>\n",
       "      <td>4.56</td>\n",
       "      <td>7.28</td>\n",
       "      <td>Low</td>\n",
       "      <td>Low</td>\n",
       "      <td>0.048139</td>\n",
       "      <td>0.000034</td>\n",
       "      <td>92.615</td>\n",
       "      <td>95.335</td>\n",
       "      <td>5.063772e+05</td>\n",
       "      <td>5828.516560</td>\n",
       "    </tr>\n",
       "    <tr>\n",
       "      <th>1</th>\n",
       "      <td>2</td>\n",
       "      <td>33.6875-118.1875</td>\n",
       "      <td>413.0</td>\n",
       "      <td>-118.1875</td>\n",
       "      <td>33.6875</td>\n",
       "      <td>88.0520</td>\n",
       "      <td>4.48</td>\n",
       "      <td>7.20</td>\n",
       "      <td>Low</td>\n",
       "      <td>Low</td>\n",
       "      <td>0.052413</td>\n",
       "      <td>0.000026</td>\n",
       "      <td>92.532</td>\n",
       "      <td>95.252</td>\n",
       "      <td>3.809470e+05</td>\n",
       "      <td>6472.321641</td>\n",
       "    </tr>\n",
       "    <tr>\n",
       "      <th>2</th>\n",
       "      <td>3</td>\n",
       "      <td>33.6875-118.25</td>\n",
       "      <td>389.0</td>\n",
       "      <td>-118.2500</td>\n",
       "      <td>33.6875</td>\n",
       "      <td>87.3500</td>\n",
       "      <td>4.36</td>\n",
       "      <td>7.06</td>\n",
       "      <td>Low</td>\n",
       "      <td>Low</td>\n",
       "      <td>0.335520</td>\n",
       "      <td>0.000413</td>\n",
       "      <td>91.710</td>\n",
       "      <td>94.410</td>\n",
       "      <td>6.149175e+06</td>\n",
       "      <td>40519.205927</td>\n",
       "    </tr>\n",
       "    <tr>\n",
       "      <th>3</th>\n",
       "      <td>4</td>\n",
       "      <td>33.6875-118.3125</td>\n",
       "      <td>365.0</td>\n",
       "      <td>-118.3125</td>\n",
       "      <td>33.6875</td>\n",
       "      <td>85.4807</td>\n",
       "      <td>4.13</td>\n",
       "      <td>6.94</td>\n",
       "      <td>Low</td>\n",
       "      <td>Low</td>\n",
       "      <td>0.459919</td>\n",
       "      <td>0.001902</td>\n",
       "      <td>89.611</td>\n",
       "      <td>92.421</td>\n",
       "      <td>2.834756e+07</td>\n",
       "      <td>56315.667081</td>\n",
       "    </tr>\n",
       "    <tr>\n",
       "      <th>4</th>\n",
       "      <td>5</td>\n",
       "      <td>33.6875-118.375</td>\n",
       "      <td>341.0</td>\n",
       "      <td>-118.3750</td>\n",
       "      <td>33.6875</td>\n",
       "      <td>83.5907</td>\n",
       "      <td>4.06</td>\n",
       "      <td>6.85</td>\n",
       "      <td>Low</td>\n",
       "      <td>Low</td>\n",
       "      <td>0.190133</td>\n",
       "      <td>0.001461</td>\n",
       "      <td>87.651</td>\n",
       "      <td>90.441</td>\n",
       "      <td>2.176775e+07</td>\n",
       "      <td>22769.934508</td>\n",
       "    </tr>\n",
       "    <tr>\n",
       "      <th>5</th>\n",
       "      <td>6</td>\n",
       "      <td>33.6875-118.4375</td>\n",
       "      <td>317.0</td>\n",
       "      <td>-118.4375</td>\n",
       "      <td>33.6875</td>\n",
       "      <td>84.3260</td>\n",
       "      <td>4.01</td>\n",
       "      <td>6.81</td>\n",
       "      <td>Low</td>\n",
       "      <td>Low</td>\n",
       "      <td>0.104197</td>\n",
       "      <td>0.000370</td>\n",
       "      <td>88.336</td>\n",
       "      <td>91.136</td>\n",
       "      <td>5.518394e+06</td>\n",
       "      <td>12285.573406</td>\n",
       "    </tr>\n",
       "    <tr>\n",
       "      <th>6</th>\n",
       "      <td>7</td>\n",
       "      <td>33.75-118.125</td>\n",
       "      <td>438.0</td>\n",
       "      <td>-118.1250</td>\n",
       "      <td>33.7500</td>\n",
       "      <td>90.2867</td>\n",
       "      <td>4.71</td>\n",
       "      <td>7.40</td>\n",
       "      <td>Low</td>\n",
       "      <td>Low</td>\n",
       "      <td>0.343286</td>\n",
       "      <td>0.002015</td>\n",
       "      <td>94.997</td>\n",
       "      <td>97.687</td>\n",
       "      <td>3.004851e+07</td>\n",
       "      <td>41933.437094</td>\n",
       "    </tr>\n",
       "    <tr>\n",
       "      <th>7</th>\n",
       "      <td>8</td>\n",
       "      <td>33.75-118.1875</td>\n",
       "      <td>414.0</td>\n",
       "      <td>-118.1875</td>\n",
       "      <td>33.7500</td>\n",
       "      <td>89.9600</td>\n",
       "      <td>4.67</td>\n",
       "      <td>7.34</td>\n",
       "      <td>Low</td>\n",
       "      <td>Low</td>\n",
       "      <td>0.327672</td>\n",
       "      <td>0.003340</td>\n",
       "      <td>94.630</td>\n",
       "      <td>97.300</td>\n",
       "      <td>4.980221e+07</td>\n",
       "      <td>39913.291451</td>\n",
       "    </tr>\n",
       "    <tr>\n",
       "      <th>8</th>\n",
       "      <td>9</td>\n",
       "      <td>33.75-118.25</td>\n",
       "      <td>390.0</td>\n",
       "      <td>-118.2500</td>\n",
       "      <td>33.7500</td>\n",
       "      <td>87.8540</td>\n",
       "      <td>4.43</td>\n",
       "      <td>7.13</td>\n",
       "      <td>Low</td>\n",
       "      <td>Low</td>\n",
       "      <td>0.566503</td>\n",
       "      <td>0.003488</td>\n",
       "      <td>92.284</td>\n",
       "      <td>94.984</td>\n",
       "      <td>5.199826e+07</td>\n",
       "      <td>68664.928055</td>\n",
       "    </tr>\n",
       "    <tr>\n",
       "      <th>9</th>\n",
       "      <td>10</td>\n",
       "      <td>33.75-118.3125</td>\n",
       "      <td>366.0</td>\n",
       "      <td>-118.3125</td>\n",
       "      <td>33.7500</td>\n",
       "      <td>85.4807</td>\n",
       "      <td>4.10</td>\n",
       "      <td>6.95</td>\n",
       "      <td>Low</td>\n",
       "      <td>Low</td>\n",
       "      <td>0.420293</td>\n",
       "      <td>0.003699</td>\n",
       "      <td>89.581</td>\n",
       "      <td>92.431</td>\n",
       "      <td>5.514635e+07</td>\n",
       "      <td>51543.565663</td>\n",
       "    </tr>\n",
       "    <tr>\n",
       "      <th>10</th>\n",
       "      <td>11</td>\n",
       "      <td>33.75-118.375</td>\n",
       "      <td>342.0</td>\n",
       "      <td>-118.3750</td>\n",
       "      <td>33.7500</td>\n",
       "      <td>83.6240</td>\n",
       "      <td>4.02</td>\n",
       "      <td>6.85</td>\n",
       "      <td>Low</td>\n",
       "      <td>Low</td>\n",
       "      <td>0.250000</td>\n",
       "      <td>0.003906</td>\n",
       "      <td>87.644</td>\n",
       "      <td>90.474</td>\n",
       "      <td>5.823877e+07</td>\n",
       "      <td>30656.296234</td>\n",
       "    </tr>\n",
       "  </tbody>\n",
       "</table>\n",
       "</div>"
      ],
      "text/plain": [
       "    OBJECTID           Geo_UID  Grid_Num  longitude  latitude  Baseline  \\\n",
       "0          1   33.6875-118.125     437.0  -118.1250   33.6875   88.0547   \n",
       "1          2  33.6875-118.1875     413.0  -118.1875   33.6875   88.0520   \n",
       "2          3    33.6875-118.25     389.0  -118.2500   33.6875   87.3500   \n",
       "3          4  33.6875-118.3125     365.0  -118.3125   33.6875   85.4807   \n",
       "4          5   33.6875-118.375     341.0  -118.3750   33.6875   83.5907   \n",
       "5          6  33.6875-118.4375     317.0  -118.4375   33.6875   84.3260   \n",
       "6          7     33.75-118.125     438.0  -118.1250   33.7500   90.2867   \n",
       "7          8    33.75-118.1875     414.0  -118.1875   33.7500   89.9600   \n",
       "8          9      33.75-118.25     390.0  -118.2500   33.7500   87.8540   \n",
       "9         10    33.75-118.3125     366.0  -118.3125   33.7500   85.4807   \n",
       "10        11     33.75-118.375     342.0  -118.3750   33.7500   83.6240   \n",
       "\n",
       "    F_2050  F_2080 Temp_Exposure Temp_Exposure_2080  Shape_Length  Shape_Area  \\\n",
       "0     4.56    7.28           Low                Low      0.048139    0.000034   \n",
       "1     4.48    7.20           Low                Low      0.052413    0.000026   \n",
       "2     4.36    7.06           Low                Low      0.335520    0.000413   \n",
       "3     4.13    6.94           Low                Low      0.459919    0.001902   \n",
       "4     4.06    6.85           Low                Low      0.190133    0.001461   \n",
       "5     4.01    6.81           Low                Low      0.104197    0.000370   \n",
       "6     4.71    7.40           Low                Low      0.343286    0.002015   \n",
       "7     4.67    7.34           Low                Low      0.327672    0.003340   \n",
       "8     4.43    7.13           Low                Low      0.566503    0.003488   \n",
       "9     4.10    6.95           Low                Low      0.420293    0.003699   \n",
       "10    4.02    6.85           Low                Low      0.250000    0.003906   \n",
       "\n",
       "    Temp_Mid  Temp_Late   Shape__Area  Shape__Length  \n",
       "0     92.615     95.335  5.063772e+05    5828.516560  \n",
       "1     92.532     95.252  3.809470e+05    6472.321641  \n",
       "2     91.710     94.410  6.149175e+06   40519.205927  \n",
       "3     89.611     92.421  2.834756e+07   56315.667081  \n",
       "4     87.651     90.441  2.176775e+07   22769.934508  \n",
       "5     88.336     91.136  5.518394e+06   12285.573406  \n",
       "6     94.997     97.687  3.004851e+07   41933.437094  \n",
       "7     94.630     97.300  4.980221e+07   39913.291451  \n",
       "8     92.284     94.984  5.199826e+07   68664.928055  \n",
       "9     89.581     92.431  5.514635e+07   51543.565663  \n",
       "10    87.644     90.474  5.823877e+07   30656.296234  "
      ]
     },
     "execution_count": 91,
     "metadata": {},
     "output_type": "execute_result"
    }
   ],
   "source": [
    "temp.head(11) # remember that zero counts as a number"
   ]
  },
  {
   "cell_type": "code",
   "execution_count": 33,
   "id": "17b7a123-b504-4fc2-bdc0-7fdd03ec15d3",
   "metadata": {},
   "outputs": [
    {
     "data": {
      "text/plain": [
       "(323, 16)"
      ]
     },
     "execution_count": 33,
     "metadata": {},
     "output_type": "execute_result"
    }
   ],
   "source": [
    "temp.shape"
   ]
  },
  {
   "cell_type": "code",
   "execution_count": 25,
   "id": "3b07790e-2af7-46f2-afaf-c48981e2a150",
   "metadata": {},
   "outputs": [],
   "source": [
    "# The number of rows and columns for the data set are listed above"
   ]
  },
  {
   "cell_type": "code",
   "execution_count": 34,
   "id": "ff25c096-54d6-4b06-bc6d-bfec0c683df3",
   "metadata": {},
   "outputs": [
    {
     "name": "stdout",
     "output_type": "stream",
     "text": [
      "<class 'pandas.core.frame.DataFrame'>\n",
      "RangeIndex: 323 entries, 0 to 322\n",
      "Data columns (total 16 columns):\n",
      " #   Column              Non-Null Count  Dtype  \n",
      "---  ------              --------------  -----  \n",
      " 0   OBJECTID            323 non-null    int64  \n",
      " 1   Geo_UID             323 non-null    object \n",
      " 2   Grid_Num            309 non-null    float64\n",
      " 3   longitude           323 non-null    float64\n",
      " 4   latitude            323 non-null    float64\n",
      " 5   Baseline            323 non-null    float64\n",
      " 6   F_2050              323 non-null    float64\n",
      " 7   F_2080              323 non-null    float64\n",
      " 8   Temp_Exposure       323 non-null    object \n",
      " 9   Temp_Exposure_2080  323 non-null    object \n",
      " 10  Shape_Length        323 non-null    float64\n",
      " 11  Shape_Area          323 non-null    float64\n",
      " 12  Temp_Mid            323 non-null    float64\n",
      " 13  Temp_Late           323 non-null    float64\n",
      " 14  Shape__Area         323 non-null    float64\n",
      " 15  Shape__Length       323 non-null    float64\n",
      "dtypes: float64(12), int64(1), object(3)\n",
      "memory usage: 40.5+ KB\n"
     ]
    }
   ],
   "source": [
    "temp.info()"
   ]
  },
  {
   "cell_type": "code",
   "execution_count": 36,
   "id": "2c0c3d44-0f25-4df0-9e75-5524bc6e603c",
   "metadata": {},
   "outputs": [
    {
     "data": {
      "text/plain": [
       "Medium    149\n",
       "High      108\n",
       "Low        66\n",
       "Name: Temp_Exposure, dtype: int64"
      ]
     },
     "execution_count": 36,
     "metadata": {},
     "output_type": "execute_result"
    }
   ],
   "source": [
    "temp ['Temp_Exposure'].value_counts()"
   ]
  },
  {
   "cell_type": "code",
   "execution_count": 38,
   "id": "3f2610bd-debc-496c-8ba1-59531bd82ec4",
   "metadata": {},
   "outputs": [],
   "source": [
    "# The information above shows the different levels of heat exposure in this dataset"
   ]
  },
  {
   "cell_type": "code",
   "execution_count": 63,
   "id": "538bd263-67fa-4352-b1d4-0c6db1320518",
   "metadata": {},
   "outputs": [
    {
     "data": {
      "text/plain": [
       "<AxesSubplot: >"
      ]
     },
     "execution_count": 63,
     "metadata": {},
     "output_type": "execute_result"
    },
    {
     "data": {
      "image/png": "[encoded data removed]",
      "text/plain": [
       "<Figure size 640x480 with 1 Axes>"
      ]
     },
     "metadata": {},
     "output_type": "display_data"
    }
   ],
   "source": [
    "temp.plot ()  \n",
    "    "
   ]
  },
  {
   "cell_type": "code",
   "execution_count": 60,
   "id": "37bd1661-8581-48f2-accb-49f4d14b09b8",
   "metadata": {},
   "outputs": [],
   "source": [
    "# failed in plotting above. I need to extract the latitude and longitude to plot."
   ]
  },
  {
   "cell_type": "code",
   "execution_count": 99,
   "id": "0d1dbe8e-259d-4396-b515-48bdc421dac0",
   "metadata": {},
   "outputs": [],
   "source": [
    "desired_columns = ['OBJECTID', 'Geo_UID','longitude','latitude'] \n",
    "# I had to come back and change this to declare this as a new variable"
   ]
  },
  {
   "cell_type": "code",
   "execution_count": 102,
   "id": "bc202dde-b457-44cf-901b-0da6f5482d7a",
   "metadata": {},
   "outputs": [
    {
     "data": {
      "text/html": [
       "<div>\n",
       "<style scoped>\n",
       "    .dataframe tbody tr th:only-of-type {\n",
       "        vertical-align: middle;\n",
       "    }\n",
       "\n",
       "    .dataframe tbody tr th {\n",
       "        vertical-align: top;\n",
       "    }\n",
       "\n",
       "    .dataframe thead th {\n",
       "        text-align: right;\n",
       "    }\n",
       "</style>\n",
       "<table border=\"1\" class=\"dataframe\">\n",
       "  <thead>\n",
       "    <tr style=\"text-align: right;\">\n",
       "      <th></th>\n",
       "      <th>OBJECTID</th>\n",
       "      <th>Geo_UID</th>\n",
       "      <th>longitude</th>\n",
       "      <th>latitude</th>\n",
       "    </tr>\n",
       "  </thead>\n",
       "  <tbody>\n",
       "    <tr>\n",
       "      <th>0</th>\n",
       "      <td>1</td>\n",
       "      <td>33.6875-118.125</td>\n",
       "      <td>-118.1250</td>\n",
       "      <td>33.6875</td>\n",
       "    </tr>\n",
       "    <tr>\n",
       "      <th>1</th>\n",
       "      <td>2</td>\n",
       "      <td>33.6875-118.1875</td>\n",
       "      <td>-118.1875</td>\n",
       "      <td>33.6875</td>\n",
       "    </tr>\n",
       "    <tr>\n",
       "      <th>2</th>\n",
       "      <td>3</td>\n",
       "      <td>33.6875-118.25</td>\n",
       "      <td>-118.2500</td>\n",
       "      <td>33.6875</td>\n",
       "    </tr>\n",
       "    <tr>\n",
       "      <th>3</th>\n",
       "      <td>4</td>\n",
       "      <td>33.6875-118.3125</td>\n",
       "      <td>-118.3125</td>\n",
       "      <td>33.6875</td>\n",
       "    </tr>\n",
       "    <tr>\n",
       "      <th>4</th>\n",
       "      <td>5</td>\n",
       "      <td>33.6875-118.375</td>\n",
       "      <td>-118.3750</td>\n",
       "      <td>33.6875</td>\n",
       "    </tr>\n",
       "    <tr>\n",
       "      <th>...</th>\n",
       "      <td>...</td>\n",
       "      <td>...</td>\n",
       "      <td>...</td>\n",
       "      <td>...</td>\n",
       "    </tr>\n",
       "    <tr>\n",
       "      <th>318</th>\n",
       "      <td>319</td>\n",
       "      <td>33.375-118.5625</td>\n",
       "      <td>-118.5625</td>\n",
       "      <td>33.3750</td>\n",
       "    </tr>\n",
       "    <tr>\n",
       "      <th>319</th>\n",
       "      <td>320</td>\n",
       "      <td>33.375-118.625</td>\n",
       "      <td>-118.6250</td>\n",
       "      <td>33.3750</td>\n",
       "    </tr>\n",
       "    <tr>\n",
       "      <th>320</th>\n",
       "      <td>321</td>\n",
       "      <td>33.4375-118.5</td>\n",
       "      <td>-118.5000</td>\n",
       "      <td>33.4375</td>\n",
       "    </tr>\n",
       "    <tr>\n",
       "      <th>321</th>\n",
       "      <td>322</td>\n",
       "      <td>33.4375-118.5625</td>\n",
       "      <td>-118.5625</td>\n",
       "      <td>33.4375</td>\n",
       "    </tr>\n",
       "    <tr>\n",
       "      <th>322</th>\n",
       "      <td>323</td>\n",
       "      <td>33.4375-118.625</td>\n",
       "      <td>-118.6250</td>\n",
       "      <td>33.4375</td>\n",
       "    </tr>\n",
       "  </tbody>\n",
       "</table>\n",
       "<p>323 rows × 4 columns</p>\n",
       "</div>"
      ],
      "text/plain": [
       "     OBJECTID           Geo_UID  longitude  latitude\n",
       "0           1   33.6875-118.125  -118.1250   33.6875\n",
       "1           2  33.6875-118.1875  -118.1875   33.6875\n",
       "2           3    33.6875-118.25  -118.2500   33.6875\n",
       "3           4  33.6875-118.3125  -118.3125   33.6875\n",
       "4           5   33.6875-118.375  -118.3750   33.6875\n",
       "..        ...               ...        ...       ...\n",
       "318       319   33.375-118.5625  -118.5625   33.3750\n",
       "319       320    33.375-118.625  -118.6250   33.3750\n",
       "320       321     33.4375-118.5  -118.5000   33.4375\n",
       "321       322  33.4375-118.5625  -118.5625   33.4375\n",
       "322       323   33.4375-118.625  -118.6250   33.4375\n",
       "\n",
       "[323 rows x 4 columns]"
      ]
     },
     "execution_count": 102,
     "metadata": {},
     "output_type": "execute_result"
    }
   ],
   "source": [
    "temp_trimmed=temp[desired_columns].copy()\n",
    "temp_trimmed\n",
    "\n",
    "#now that it is declared I was able to save the trimmed info and the new table is below."
   ]
  },
  {
   "cell_type": "code",
   "execution_count": 109,
   "id": "76b580f3-22a0-475b-b3b1-99ce4bf28c3b",
   "metadata": {},
   "outputs": [
    {
     "data": {
      "text/plain": [
       "<AxesSubplot: >"
      ]
     },
     "execution_count": 109,
     "metadata": {},
     "output_type": "execute_result"
    },
    {
     "data": {
      "image/png": "[encoded data removed]",
      "text/plain": [
       "<Figure size 640x480 with 1 Axes>"
      ]
     },
     "metadata": {},
     "output_type": "display_data"
    }
   ],
   "source": [
    "temp_trimmed.plot()"
   ]
  },
  {
   "cell_type": "code",
   "execution_count": 114,
   "id": "e529ff2f-801c-4225-8ce7-e16dce0f6de8",
   "metadata": {},
   "outputs": [],
   "source": [
    "# The plot is not great, I'm thinking it is because it is missing the geometry section from the data"
   ]
  }
 ],
 "metadata": {
  "kernelspec": {
   "display_name": "Python 3 (ipykernel)",
   "language": "python",
   "name": "python3"
  },
  "language_info": {
   "codemirror_mode": {
    "name": "ipython",
    "version": 3
   },
   "file_extension": ".py",
   "mimetype": "text/x-python",
   "name": "python",
   "nbconvert_exporter": "python",
   "pygments_lexer": "ipython3",
   "version": "3.10.8"
  }
 },
 "nbformat": 4,
 "nbformat_minor": 5
}
